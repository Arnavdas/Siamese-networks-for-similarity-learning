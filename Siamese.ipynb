{
  "nbformat": 4,
  "nbformat_minor": 0,
  "metadata": {
    "colab": {
      "name": "Siamese.ipynb",
      "provenance": [],
      "collapsed_sections": [],
      "authorship_tag": "ABX9TyNeUDZ1AA+zZ3zIGZHW0zix",
      "include_colab_link": true
    },
    "kernelspec": {
      "name": "python3",
      "display_name": "Python 3"
    },
    "accelerator": "GPU"
  },
  "cells": [
    {
      "cell_type": "markdown",
      "metadata": {
        "id": "view-in-github",
        "colab_type": "text"
      },
      "source": [
        "<a href=\"https://colab.research.google.com/github/Arnavdas/Siamese-networks-for-similarity-learning/blob/master/Siamese.ipynb\" target=\"_parent\"><img src=\"https://colab.research.google.com/assets/colab-badge.svg\" alt=\"Open In Colab\"/></a>"
      ]
    },
    {
      "cell_type": "markdown",
      "metadata": {
        "id": "cNYxztYiW5NI",
        "colab_type": "text"
      },
      "source": [
        "Siamese Model as followed in the repo"
      ]
    },
    {
      "cell_type": "code",
      "metadata": {
        "id": "5d2lxBCKVZfK",
        "colab_type": "code",
        "colab": {}
      },
      "source": [
        "from keras import Input, utils, backend as K, initializers as init, callbacks\n",
        "from keras.models import Model, Sequential\n",
        "from keras.layers import Conv2D, MaxPooling2D, Flatten, Dense, Lambda\n",
        "from keras.optimizers import Adam\n",
        "from keras.regularizers import l2\n",
        "\n",
        "def get_siamese_model(input_shape):\n",
        "    left_input, right_input = Input(input_shape), Input(input_shape) \n",
        "    # Convolutional Neural Network\n",
        "    model = Sequential()\n",
        "    model.add(Conv2D(64, (10,10), activation='relu', input_shape = input_shape, \n",
        "                       kernel_initializer=init.random_normal(stddev=0.01) ,kernel_regularizer=l2(2e-4)))\n",
        "    model.add(MaxPooling2D())\n",
        "    model.add(Conv2D(128, (7,7), activation='relu', kernel_initializer=init.random_normal(stddev=0.01),\n",
        "                      bias_initializer=init.random_normal(mean=0.5, stddev=0.01), kernel_regularizer=l2(2e-4)))\n",
        "    model.add(MaxPooling2D())\n",
        "    model.add(Conv2D(128, (4,4), activation='relu', kernel_initializer = init.random_normal(stddev = 0.01),\n",
        "                     bias_initializer=init.random_normal(mean=0.5, stddev=0.01), kernel_regularizer=l2(2e-4)))\n",
        "    model.add(MaxPooling2D())\n",
        "    model.add(Conv2D(256, (4,4), activation='relu', kernel_initializer = init.random_normal(stddev = 0.01),\n",
        "                     bias_initializer=init.random_normal(mean=0.5, stddev=0.01), kernel_regularizer=l2(2e-4)))\n",
        "    model.add(Flatten())\n",
        "    model.add(Dense(4096, activation='sigmoid', kernel_initializer = init.random_normal(stddev = 0.01), \n",
        "                    bias_initializer=init.random_normal(mean=0.5, stddev=0.01), kernel_regularizer=l2(1e-3)))\n",
        "    # model.layers()\n",
        "    # Generate the encodings (feature vectors) for the two images\n",
        "    encoded_l, encoded_r = model(left_input), model(right_input)\n",
        "    # Add a customized layer to compute the absolute difference between the encodings\n",
        "    L1_layer = Lambda(lambda tensors:K.abs(tensors[0] - tensors[1]))\n",
        "    L1_distance = L1_layer([encoded_l, encoded_r])\n",
        "    \n",
        "    # Add a dense layer with a sigmoid unit to generate the similarity score\n",
        "    prediction = Dense(1, activation='sigmoid', \n",
        "                       bias_initializer=init.random_normal(mean=0.5, stddev=0.01))(L1_distance)\n",
        "    \n",
        "    # Connect the inputs with the outputs\n",
        "    siamese_net = Model(inputs=[left_input, right_input], outputs=prediction)\n",
        "    # siamese_net.summary()\n",
        "    return siamese_net"
      ],
      "execution_count": null,
      "outputs": []
    },
    {
      "cell_type": "code",
      "metadata": {
        "id": "xC1U8aj7NX6r",
        "colab_type": "code",
        "colab": {}
      },
      "source": [
        "from google.colab import files\n",
        "\n",
        "files.upload()\n",
        "files.upload()\n",
        "\n",
        "! unzip images_background \n",
        "! unzip images_evaluation"
      ],
      "execution_count": null,
      "outputs": []
    },
    {
      "cell_type": "code",
      "metadata": {
        "id": "lPZiv84WPaSS",
        "colab_type": "code",
        "colab": {
          "base_uri": "https://localhost:8080/",
          "height": 128
        },
        "outputId": "771ae838-65b3-46f4-8b50-0f637849005a"
      },
      "source": [
        "import os, shutil\n",
        "os.listdir('.')"
      ],
      "execution_count": null,
      "outputs": [
        {
          "output_type": "execute_result",
          "data": {
            "text/plain": [
              "['.config',\n",
              " 'images_background',\n",
              " 'images_evaluation.zip',\n",
              " 'images_background.zip',\n",
              " 'images_evaluation',\n",
              " 'sample_data']"
            ]
          },
          "metadata": {
            "tags": []
          },
          "execution_count": 3
        }
      ]
    },
    {
      "cell_type": "markdown",
      "metadata": {
        "id": "klWxDGkRGClt",
        "colab_type": "text"
      },
      "source": [
        "Proper preprocessing of Training and testing Data"
      ]
    },
    {
      "cell_type": "code",
      "metadata": {
        "id": "QGT114KlPP8f",
        "colab_type": "code",
        "colab": {}
      },
      "source": [
        "import matplotlib.pyplot as plt, numpy as np\n",
        "\n",
        "alpha_char, char_letter, path, X, y, Class  = {}, {}, 'images_background', [], [], {}\n",
        "\n",
        "for i in enumerate(os.listdir('images_background')):\n",
        "  alpha_path = os.path.join(path+'/'+i[1])\n",
        "  Class[i[0]] = i[1]\n",
        "  alpha_char[i] = os.listdir(alpha_path)\n",
        "  for j in os.listdir(alpha_path):\n",
        "    letter_path = os.path.join(alpha_path+'/'+j)\n",
        "    # char_letter[i, j] = [plt.imread(alpha_path+'/'+j+'/'+k) for k in os.listdir(letter_path)]\n",
        "    X.append([plt.imread(alpha_path+'/'+j+'/'+k) for k in os.listdir(letter_path)])\n",
        "    y.append(i[0])\n",
        "\n",
        "Xtrain, y = np.stack(X), np.stack(y)"
      ],
      "execution_count": null,
      "outputs": []
    },
    {
      "cell_type": "code",
      "metadata": {
        "id": "fo2lS8KWbi7k",
        "colab_type": "code",
        "colab": {}
      },
      "source": [
        "Xval, yval, alpha_char_val, letter_path_val, path_val, class_val  = [], [], {}, {}, 'images_evaluation', {}\n",
        "\n",
        "for i in enumerate(os.listdir('images_evaluation')):\n",
        "  alpha_path_val = os.path.join(path_val+'/'+i[1])\n",
        "  class_val[i[0]] = i[1]\n",
        "  alpha_char_val[i] = os.listdir(alpha_path_val)\n",
        "  for j in os.listdir(alpha_path_val):\n",
        "    letter_path_val = os.path.join(alpha_path_val+'/'+j)\n",
        "    Xval.append([plt.imread(alpha_path_val+'/'+j+'/'+k) for k in os.listdir(letter_path_val)])\n",
        "    yval.append(i[0])\n",
        "\n",
        "Xval, yval = np.stack(Xval), np.stack(yval)"
      ],
      "execution_count": null,
      "outputs": []
    },
    {
      "cell_type": "code",
      "metadata": {
        "id": "97kOx62fhr3D",
        "colab_type": "code",
        "colab": {
          "base_uri": "https://localhost:8080/",
          "height": 54
        },
        "outputId": "e42286bb-c84c-40f2-c268-167d443eba29"
      },
      "source": [
        "print(Xval.shape)\n",
        "Xtrain.shape"
      ],
      "execution_count": null,
      "outputs": [
        {
          "output_type": "stream",
          "text": [
            "(659, 20, 105, 105)\n"
          ],
          "name": "stdout"
        },
        {
          "output_type": "execute_result",
          "data": {
            "text/plain": [
              "(964, 20, 105, 105)"
            ]
          },
          "metadata": {
            "tags": []
          },
          "execution_count": 8
        }
      ]
    },
    {
      "cell_type": "code",
      "metadata": {
        "id": "Q4R8_Okc3i_h",
        "colab_type": "code",
        "colab": {
          "base_uri": "https://localhost:8080/",
          "height": 305
        },
        "outputId": "7948d435-c67e-4e06-8c63-7786c33ada69"
      },
      "source": [
        "%matplotlib inline\n",
        "plt.imshow(Xtrain[2][12])\n",
        "print(Xtrain[2][3].shape)\n",
        "print(Xtrain.shape)\n",
        "# alpha_char"
      ],
      "execution_count": null,
      "outputs": [
        {
          "output_type": "stream",
          "text": [
            "(105, 105)\n",
            "(964, 20, 105, 105)\n"
          ],
          "name": "stdout"
        },
        {
          "output_type": "display_data",
          "data": {
            "image/png": "[encoded data removed]",
            "text/plain": [
              "<Figure size 432x288 with 1 Axes>"
            ]
          },
          "metadata": {
            "tags": [],
            "needs_background": "light"
          }
        }
      ]
    },
    {
      "cell_type": "markdown",
      "metadata": {
        "id": "V3siK4vBWHIV",
        "colab_type": "text"
      },
      "source": [
        "method to generate a batch with required batch_size for training and testing"
      ]
    },
    {
      "cell_type": "code",
      "metadata": {
        "id": "sMY62Q-rPD9Y",
        "colab_type": "code",
        "colab": {}
      },
      "source": [
        "def get_batch(batch_size, s=\"train\"):\n",
        "  if s == \"train\":\n",
        "    n_classes, n_examples, w, h = Xtrain.shape\n",
        "  else:\n",
        "    n_classes, n_examples, w, h = Xval.shape\n",
        "  cat_g = np.random.choice(n_classes, size = (batch_size), replace=False)\n",
        "  tar_g = np.concatenate((np.zeros(batch_size//2), np.ones(batch_size//2)))\n",
        "  pairs = [np.zeros((batch_size, h, w, 1)) for i in range(2)]\n",
        "\n",
        "  for i in range(batch_size):\n",
        "    cat_now, idx1, idx2 = cat_g[i], np.random.randint(n_examples), np.random.randint(n_examples)\n",
        "    pairs[0][i,:,:,:] = Xtrain[cat_now, idx1].reshape(w, h, 1)\n",
        "    \n",
        "    if i > batch_size//2:# select always same category pics\n",
        "      cat_now_2 = cat_g[i]\n",
        "    else:# select always diff category pics\n",
        "      cat_now_2  = (np.random.randint(n_classes) + cat_g[i])%n_classes\n",
        "\n",
        "    pairs[1][i,:,:,:] = Xtrain[cat_now_2, idx2].reshape(w, h, 1)\n",
        "  \n",
        "  return pairs, tar_g\n"
      ],
      "execution_count": null,
      "outputs": []
    },
    {
      "cell_type": "markdown",
      "metadata": {
        "id": "KiXApF6iWct7",
        "colab_type": "text"
      },
      "source": [
        "one shot learning method"
      ]
    },
    {
      "cell_type": "code",
      "metadata": {
        "id": "iauD78uIkkKJ",
        "colab_type": "code",
        "colab": {}
      },
      "source": [
        "from sklearn.utils import shuffle\n",
        "\n",
        "def make_oneshot_task1(N, s = \"val\"):\n",
        "\n",
        "  if s == 'train':\n",
        "    X = Xtrain\n",
        "  else:\n",
        "    X = Xval\n",
        "\n",
        "  n_classes, n_examples, w, h = X.shape\n",
        "  # chose random N image classes & random N examples for those selected classes \n",
        "  rnd_clss, rnd_img = np.random.choice(n_classes, N, replace = False), np.random.choice(n_examples, N)\n",
        "  # choose 1 random true class category & all image examples selected above & N truth values \n",
        "  supp_img, targ, tru_cls, idx3 = X[rnd_clss, rnd_img], np.zeros(N), np.random.choice(n_classes), np.random.choice(N)\n",
        "  idx1, idx2 = np.random.choice(n_examples, 2, replace = False) \n",
        "  supp_img[idx3], test_img, targ[idx3] = X[tru_cls, idx1], np.array([X[tru_cls, idx2] for i in range(N)]), 1\n",
        "  # choose a ranodm example under true category & set the 1st index of true values as true(u can set any index)\n",
        "  # reshape supp and test images where test images are N true image examples to be matched with all examples of supp & will be onlly ture for it's 1st index\n",
        "  supp_img, test_img = supp_img.reshape((N, w, h, 1)), test_img.reshape((N, w, h, 1))\n",
        "  supp_img, test_img, targ = shuffle(supp_img, test_img, targ)\n",
        "  pairs = [test_img, supp_img]\n",
        "\n",
        "  return pairs, targ\n",
        "\n",
        "\n",
        "def test_oneshot1(model, N, k, s = \"val\"):\n",
        "  n_correct = 0\n",
        "  for i in range(k):\n",
        "      inputs, targets = make_oneshot_task1(N, s)\n",
        "      probs = model.predict(inputs)\n",
        "      if np.argmax(probs) == np.argmax(targets):\n",
        "        n_correct+=1\n",
        "  percent_correct = (100.0 * n_correct / k)\n",
        "  return percent_correct"
      ],
      "execution_count": null,
      "outputs": []
    },
    {
      "cell_type": "markdown",
      "metadata": {
        "id": "ckHlN8oFQ4u9",
        "colab_type": "text"
      },
      "source": [
        "Training and testing starts with different parameters for models, i have followed 2 styles with different iterations for training"
      ]
    },
    {
      "cell_type": "code",
      "metadata": {
        "id": "fgaD3ID0ij5v",
        "colab_type": "code",
        "colab": {}
      },
      "source": [
        "os.mkdir('data')\n",
        "os.mkdir('logs')\n",
        "# shutil.rmtree('data')\n",
        "# shutil.rmtree('logs')\n",
        "# os.listdir('.')"
      ],
      "execution_count": null,
      "outputs": []
    },
    {
      "cell_type": "code",
      "metadata": {
        "id": "nPxDh95xPl0u",
        "colab_type": "code",
        "colab": {}
      },
      "source": [
        "# to be used only for fit_generate(in new TF only fit)\n",
        "def data_generate(batch_size, s=\"train\"):\n",
        "  n = 0\n",
        "  while True:\n",
        "    pairs, targets = get_batch(batch_size, s)\n",
        "    yield (pairs, targets)\n",
        "    n+=1\n",
        "\n",
        "train_generate = data_generate(32)\n",
        "val_generate = data_generate(16, 'val')"
      ],
      "execution_count": null,
      "outputs": []
    },
    {
      "cell_type": "markdown",
      "metadata": {
        "id": "t2kQgjvERWm9",
        "colab_type": "text"
      },
      "source": [
        "Training with generators and checkpoints for 100 iterations"
      ]
    },
    {
      "cell_type": "code",
      "metadata": {
        "id": "OA7b2FK-EyhK",
        "colab_type": "code",
        "colab": {}
      },
      "source": [
        "checkpoint_filepath = 'data/model_weights.h5'\n",
        "checkpoint = callbacks.ModelCheckpoint(filepath=checkpoint_filepath, save_weights_only=True, \n",
        "                                       monitor='val_loss', mode='max', save_best_only=True )\n",
        "earlystop = callbacks.EarlyStopping(patience=10)\n",
        "logdir = os.path.join(\"logs\")\n",
        "tensorboard = callbacks.TensorBoard(logdir, histogram_freq=1)\n",
        "# reduce_lr = callbacks.ReduceLROnPlateau(monitor='val_loss', factor=0.2, patience=5, min_lr=0.001)"
      ],
      "execution_count": null,
      "outputs": []
    },
    {
      "cell_type": "code",
      "metadata": {
        "id": "4uxjUxnIXf8p",
        "colab_type": "code",
        "colab": {}
      },
      "source": [
        "# Tried rnning tensorboard in various ways in colab but was unsuccessful\n",
        "\n",
        "# %load_ext tensorboard\n",
        "# import tensorboard\n",
        "# tensorboard.__version__\n",
        "# !rm -rf ./logs/\n",
        "# !tensorboard --logdir logs\n",
        "# from tensorboard import notebook\n",
        "# notebook.list()\n",
        "# !rm -rf ./logs/\n",
        "# !tensorboard --logdir=logs --host=127.0.0.1"
      ],
      "execution_count": null,
      "outputs": []
    },
    {
      "cell_type": "code",
      "metadata": {
        "id": "C_Wd5apagPXS",
        "colab_type": "code",
        "colab": {}
      },
      "source": [
        "shutil.rmtree('data')\n",
        "os.mkdir('data')\n",
        "checkpoint_filepath = 'data/model_weights.h5'\n",
        "checkpoint = callbacks.ModelCheckpoint(filepath=checkpoint_filepath, save_weights_only=True, \n",
        "                                       monitor='val_loss', mode='max', save_best_only=True )\n",
        "earlystop = callbacks.EarlyStopping(patience=10)\n",
        "model, opt = get_siamese_model((105, 105, 1)), Adam(lr = 0.00006)\n",
        "model.compile(loss=\"binary_crossentropy\", optimizer=opt)"
      ],
      "execution_count": null,
      "outputs": []
    },
    {
      "cell_type": "code",
      "metadata": {
        "id": "wou1_edzrCci",
        "colab_type": "code",
        "colab": {}
      },
      "source": [
        "mod_hist = model.fit_generator(train_generate, steps_per_epoch = 964//32, epochs = 100,  \n",
        "                               validation_data = val_generate, validation_steps = 659//16, \n",
        "                               callbacks=[checkpoint, earlystop])"
      ],
      "execution_count": null,
      "outputs": []
    },
    {
      "cell_type": "markdown",
      "metadata": {
        "id": "xnhoZgObRsKe",
        "colab_type": "text"
      },
      "source": [
        "Testing with different sizes of N in n-way one shot learning"
      ]
    },
    {
      "cell_type": "code",
      "metadata": {
        "id": "FL978iOFQUrx",
        "colab_type": "code",
        "colab": {}
      },
      "source": [
        "model.load_weights('data/model_weights.h5')\n",
        "ways = np.arange(1, 30, 2)# size of N\n",
        "val_accs, train_accs, nn_accs = [], [], []\n",
        "trials = 450# no of instances with the above N\n",
        "for N in ways:\n",
        "    val_accs.append(test_oneshot1(model, N, trials, \"val\"))\n",
        "    train_accs.append(test_oneshot1(model, N, trials, \"train\"))"
      ],
      "execution_count": null,
      "outputs": []
    },
    {
      "cell_type": "code",
      "metadata": {
        "id": "GNV9G83pQWRH",
        "colab_type": "code",
        "colab": {
          "base_uri": "https://localhost:8080/",
          "height": 265
        },
        "outputId": "bce5fc2c-34a7-42fd-a656-092269b6331c"
      },
      "source": [
        "plt.plot(ways, val_accs, \"m\")\n",
        "plt.plot(ways, train_accs, \"y\")\n",
        "plt.plot(ways, 100.0/ways, \"r\")\n",
        "\n",
        "plt.show()"
      ],
      "execution_count": null,
      "outputs": [
        {
          "output_type": "display_data",
          "data": {
            "image/png": "[encoded data removed]",
            "text/plain": [
              "<Figure size 432x288 with 1 Axes>"
            ]
          },
          "metadata": {
            "tags": [],
            "needs_background": "light"
          }
        }
      ]
    },
    {
      "cell_type": "markdown",
      "metadata": {
        "id": "CA5eZX-_Slqi",
        "colab_type": "text"
      },
      "source": [
        "Clearing previous stored weights to train in the style mentioned in repo, with same amount of iterations"
      ]
    },
    {
      "cell_type": "code",
      "metadata": {
        "id": "TNqxYJ3HTpHT",
        "colab_type": "code",
        "colab": {}
      },
      "source": [
        "shutil.rmtree('data')\n",
        "os.mkdir('data')\n",
        "\n",
        "model, opt = get_siamese_model((105, 105, 1)), Adam(lr = 0.00006)\n",
        "model.compile(loss=\"binary_crossentropy\", optimizer=opt)"
      ],
      "execution_count": null,
      "outputs": []
    },
    {
      "cell_type": "code",
      "metadata": {
        "id": "ZitCtjmqUZ4A",
        "colab_type": "code",
        "colab": {}
      },
      "source": [
        "batch, n_iter, N_way, eval_iter, best, loss_iter, n_val = 32, 100, 20, 10, -1, 20, 250\n",
        "data_path = os.path.join('data/')\n",
        "weights_path_2 = os.path.join(data_path, \"model_weights.h5\")\n",
        "\n",
        "for i in range(1, n_iter):\n",
        "  inp, tar = get_batch(batch)\n",
        "  loss = model.train_on_batch(inp, tar)\n",
        "  print(\"\\n ------------- \\n\")\n",
        "  print(\"Loss: {0}\".format(loss)) \n",
        "  if i % eval_iter == 0:\n",
        "      print(\"iterations: {0}\".format(i))\n",
        "      val_acc = test_oneshot1(model, N_way, n_val)\n",
        "      print(val_acc)\n",
        "      if val_acc >= best:\n",
        "          print(\"Current best: {0}, previous best: {1}\".format(val_acc, best))\n",
        "          print(\"Saving weights to: {0} \\n\".format(data_path))\n",
        "          model.save_weights(weights_path_2)\n",
        "          best = val_acc\n",
        "  if i % loss_iter == 0:\n",
        "      print(\"iteration {}, training loss: {:.2f},\".format(i,loss))"
      ],
      "execution_count": null,
      "outputs": []
    },
    {
      "cell_type": "markdown",
      "metadata": {
        "id": "wcommg63S2DD",
        "colab_type": "text"
      },
      "source": [
        "testing the previous way"
      ]
    },
    {
      "cell_type": "code",
      "metadata": {
        "id": "eCBlR9SzU-o-",
        "colab_type": "code",
        "colab": {}
      },
      "source": [
        "model.load_weights('data/model_weights.h5')\n",
        "ways = np.arange(1, 30, 2)\n",
        "val_accs, train_accs, nn_accs = [], [], []\n",
        "trials = 450\n",
        "for N in ways:\n",
        "    val_accs.append(test_oneshot1(model, N, trials, \"val\"))\n",
        "    train_accs.append(test_oneshot1(model, N, trials, \"train\"))"
      ],
      "execution_count": null,
      "outputs": []
    },
    {
      "cell_type": "code",
      "metadata": {
        "id": "_8USjOUFVKr3",
        "colab_type": "code",
        "colab": {
          "base_uri": "https://localhost:8080/",
          "height": 265
        },
        "outputId": "cf324194-0c1f-42f9-ab03-68a35f02c7cf"
      },
      "source": [
        "plt.plot(ways, val_accs, \"m\")\n",
        "plt.plot(ways, train_accs, \"y\")\n",
        "plt.plot(ways, 100.0/ways, \"r\")\n",
        "\n",
        "plt.show()"
      ],
      "execution_count": null,
      "outputs": [
        {
          "output_type": "display_data",
          "data": {
            "image/png": "[encoded data removed]",
            "text/plain": [
              "<Figure size 432x288 with 1 Axes>"
            ]
          },
          "metadata": {
            "tags": [],
            "needs_background": "light"
          }
        }
      ]
    },
    {
      "cell_type": "markdown",
      "metadata": {
        "id": "2nbaAW_ITAvu",
        "colab_type": "text"
      },
      "source": [
        "Training with 500 epochs using fit_generate"
      ]
    },
    {
      "cell_type": "code",
      "metadata": {
        "id": "yjCvx9EIOBFA",
        "colab_type": "code",
        "colab": {}
      },
      "source": [
        "shutil.rmtree('data')\n",
        "os.mkdir('data')\n",
        "\n",
        "model, opt = get_siamese_model((105, 105, 1)), Adam(lr = 0.00006)\n",
        "model.compile(loss=\"binary_crossentropy\", optimizer=opt)"
      ],
      "execution_count": null,
      "outputs": []
    },
    {
      "cell_type": "code",
      "metadata": {
        "id": "lsJpMhFpOfM7",
        "colab_type": "code",
        "colab": {}
      },
      "source": [
        "checkpoint_filepath = 'data/model_weights.h5'\n",
        "checkpoint = callbacks.ModelCheckpoint(filepath=checkpoint_filepath, save_weights_only=True, \n",
        "                                       monitor='val_loss', mode='max', save_best_only=True )\n",
        "earlystop = callbacks.EarlyStopping(patience=50)"
      ],
      "execution_count": null,
      "outputs": []
    },
    {
      "cell_type": "code",
      "metadata": {
        "id": "XuTSkpaUOext",
        "colab_type": "code",
        "colab": {}
      },
      "source": [
        "mod_hist = model.fit_generator(train_generate, steps_per_epoch = 964//32, epochs = 500,  \n",
        "                               validation_data = val_generate, validation_steps = 659//16, \n",
        "                               callbacks=[checkpoint, earlystop])"
      ],
      "execution_count": null,
      "outputs": []
    },
    {
      "cell_type": "code",
      "metadata": {
        "id": "7rtPzbjfQfPo",
        "colab_type": "code",
        "colab": {}
      },
      "source": [
        "model.load_weights('data/model_weights.h5')\n",
        "ways = np.arange(1, 30, 2)\n",
        "val_accs, train_accs, nn_accs = [], [], []\n",
        "trials = 450\n",
        "for N in ways:\n",
        "    val_accs.append(test_oneshot1(model, N, trials, \"val\"))\n",
        "    train_accs.append(test_oneshot1(model, N, trials, \"train\"))"
      ],
      "execution_count": null,
      "outputs": []
    },
    {
      "cell_type": "code",
      "metadata": {
        "id": "BhLYf-WiQudT",
        "colab_type": "code",
        "colab": {
          "base_uri": "https://localhost:8080/",
          "height": 265
        },
        "outputId": "f4994c4d-faa7-415b-e851-10339fa4a80a"
      },
      "source": [
        "plt.plot(ways, val_accs, \"m\")\n",
        "plt.plot(ways, train_accs, \"y\")\n",
        "plt.plot(ways, 100.0/ways, \"r\")\n",
        "\n",
        "plt.show()"
      ],
      "execution_count": null,
      "outputs": [
        {
          "output_type": "display_data",
          "data": {
            "image/png": "[encoded data removed]",
            "text/plain": [
              "<Figure size 432x288 with 1 Axes>"
            ]
          },
          "metadata": {
            "tags": [],
            "needs_background": "light"
          }
        }
      ]
    },
    {
      "cell_type": "markdown",
      "metadata": {
        "id": "1Mt9__1BTQtO",
        "colab_type": "text"
      },
      "source": [
        "The repo trained for around 20k iterations so i ran a 10k iterations following the same method"
      ]
    },
    {
      "cell_type": "code",
      "metadata": {
        "id": "UlnmX1W2lWj4",
        "colab_type": "code",
        "colab": {}
      },
      "source": [
        "batch, n_iter, N_way, eval_iter, best, loss_iter, n_val = 32, 10000, 20, 10, -1, 20, 250\n",
        "data_path = os.path.join('data/')\n",
        "weights_path_2 = os.path.join(data_path, \"model_weights.h5\")\n",
        "\n",
        "for i in range(1, n_iter):\n",
        "  inp, tar = get_batch(batch)\n",
        "  loss = model.train_on_batch(inp, tar)\n",
        "  print(\"\\n ------------- \\n\")\n",
        "  print(\"Loss: {0}\".format(loss)) \n",
        "  if i % eval_iter == 0:\n",
        "      print(\"iterations: {0}\".format(i))\n",
        "      val_acc = test_oneshot1(model, N_way, n_val)\n",
        "      print(val_acc)\n",
        "      if val_acc >= best:\n",
        "          print(\"Current best: {0}, previous best: {1}\".format(val_acc, best))\n",
        "          print(\"Saving weights to: {0} \\n\".format(data_path))\n",
        "          model.save_weights(weights_path_2)\n",
        "          best = val_acc\n",
        "  if i % loss_iter == 0:\n",
        "      print(\"iteration {}, training loss: {:.2f},\".format(i,loss))"
      ],
      "execution_count": null,
      "outputs": []
    },
    {
      "cell_type": "code",
      "metadata": {
        "id": "keAf2AoJ6eYG",
        "colab_type": "code",
        "colab": {}
      },
      "source": [
        "model.load_weights('data/model_weights.h5')\n",
        "ways = np.arange(1, 30, 2)\n",
        "val_accs, train_accs, nn_accs = [], [], []\n",
        "trials = 450\n",
        "for N in ways:\n",
        "    val_accs.append(test_oneshot1(model, N, trials, \"val\"))\n",
        "    train_accs.append(test_oneshot1(model, N, trials, \"train\"))"
      ],
      "execution_count": null,
      "outputs": []
    },
    {
      "cell_type": "code",
      "metadata": {
        "id": "Is5ObUr31pew",
        "colab_type": "code",
        "colab": {
          "base_uri": "https://localhost:8080/",
          "height": 265
        },
        "outputId": "327acf0c-6443-4fac-ab5a-146fc90cbf22"
      },
      "source": [
        "plt.plot(ways, val_accs, \"m\")\n",
        "plt.plot(ways, train_accs, \"y\")\n",
        "plt.plot(ways, 100.0/ways, \"r\")\n",
        "\n",
        "plt.show()"
      ],
      "execution_count": null,
      "outputs": [
        {
          "output_type": "display_data",
          "data": {
            "image/png": "[encoded data removed]",
            "text/plain": [
              "<Figure size 432x288 with 1 Axes>"
            ]
          },
          "metadata": {
            "tags": [],
            "needs_background": "light"
          }
        }
      ]
    },
    {
      "cell_type": "code",
      "metadata": {
        "id": "aId0bI9nTxS_",
        "colab_type": "code",
        "colab": {}
      },
      "source": [
        ""
      ],
      "execution_count": null,
      "outputs": []
    }
  ]
}